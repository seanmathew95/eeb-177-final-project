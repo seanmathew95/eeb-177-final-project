{
 "cells": [
  {
   "cell_type": "markdown",
   "metadata": {},
   "source": [
    "# Evolutionary History of Felidae\n",
    "---\n",
    "#### By:  Sean Mathew\n",
    "---\n",
    "## Introduction\n",
    "Felidae is a taxonomic family of cats. Members of Felidae range from the domestic cat to extant big cats, such as lions and tigers, but also extinct members such as the saber-toothed smilodon. This project aims to analyze the diversity of Felidae through space and time. The data utilized in this project is found on the PaleoBiology Database online at paleobiodb.org. Occurrence data of fossils is downloadable as a CSV file with species name, and an estimate for the age of each fossil in the collection. In order to find species diversity through time, the files are cleaned up with UNIX, then run through python functions to get the data into a plottable format, and finally visualized using R. R is used to plot species diversity through time. Since the fossil ages are estimates, we can use PyRate to statistically analyze more accurate estimates for speciation and extinction rates. Throughout the history of Felidae, some interesting events include the Late Miocene Radiation, which is responsible for the great species diversity we see today, and divergenece between modern cats and now extinct saber-toothed cats, such as the smilodon, which spiked another wave of speciation. Diversity graphs will illustrate these events. In addition to occurrence data, the paleobiology database also houses collection data with information on the locations of the fossils as well as their ages. This information can be used to plot the fossil through time, showing the geographic distribution of Felidae through history. Most clades, according to models created by Raia, Carotenuto, et.al, are predicted to fall in species richness after large diversification events like the late Miocene and divergence of sabertooths. Felidae is indeed in decline, and many species, such as the tiger, are endangered today. \n",
    "\n",
    "----\n",
    "### Examples\n",
    "![Lion](examples_of_felidae/lion.jpg)\n",
    "![Tiger](examples_of_felidae/tiger.jpg)\n",
    "![Cat](examples_of_felidae/cat.jpg)\n",
    "![Sabertooth](examples_of_felidae/sabertooth.jpg)\n",
    "----\n",
    "\n",
    "## Functions in python\n",
    "\n",
    "### get_column_names()\n",
    "\n",
    "**file must be a formatted csv file with the head removed and any \"\\r\" characters replaced with newlines**\n",
    "\n",
    "for this particular file, \"felidae_occ.csv\", I used the following Unix command\n",
    "\n",
    "tail -n +18 felidae_occ.csv > formatted_felidae_occ.csv\n",
    "\n",
    "This function takes in a file and returns the names of all its columns with appropriate indeces"
   ]
  },
  {
   "cell_type": "code",
   "execution_count": 4,
   "metadata": {
    "collapsed": false
   },
   "outputs": [
    {
     "data": {
      "text/plain": [
       "{0: '\"collection_no',\n",
       " 1: 'record_type',\n",
       " 2: 'formation',\n",
       " 3: 'lng',\n",
       " 4: 'lat',\n",
       " 5: 'collection_name',\n",
       " 6: 'collection_subset',\n",
       " 7: 'collection_aka',\n",
       " 8: 'n_occs',\n",
       " 9: 'early_interval',\n",
       " 10: 'late_interval',\n",
       " 11: 'max_ma',\n",
       " 12: 'min_ma',\n",
       " 13: 'reference_no\"\\n'}"
      ]
     },
     "execution_count": 4,
     "metadata": {},
     "output_type": "execute_result"
    }
   ],
   "source": [
    "def get_column_names(filename):\n",
    "    in_file = open(filename) #opens the inputted file\n",
    "    column_names = {} #create an empty dictionary to populate with the column number as the key and the name of the column as the value\n",
    "    first_line = in_file.readline() #read in the first line, with only the column names\n",
    "    column_name_keys = first_line.split('\",\"') #take the column names and split them by '\",\"' to create a list\n",
    "    num_columns = len(column_name_keys) #get the total number of columns\n",
    "    for column in range(0, num_columns): #make a for loop that iterates from zero to the num_columns\n",
    "        column_names[column] = column_name_keys[column]\n",
    "    in_file.close()\n",
    "    return column_names\n",
    "\n",
    "\n",
    "get_column_names(\"formatted_felidae_col.csv\")"
   ]
  },
  {
   "cell_type": "markdown",
   "metadata": {},
   "source": [
    "### column_extractor()\n",
    "\n",
    "**file must be a formatted csv file with the head removed and any \"\\r\" characters replaced with newlines**\n",
    "\n",
    "for this particular file, \"panthera_col.csv\", I used the following Unix command\n",
    "\n",
    "tail -n +18 panthera_col.csv > formatted_panthera_col.csv\n",
    "\n",
    "\n",
    "This function will take any two columns and group them together in a dictionary. The keys can be used to identify and match up different values that can be plotted against each other\n"
   ]
  },
  {
   "cell_type": "code",
   "execution_count": 1,
   "metadata": {
    "collapsed": true
   },
   "outputs": [],
   "source": [
    "def column_extractor(file_name, key_column, value_column):\n",
    "    file_input = open(file_name) #opens the inputted file\n",
    "    file_input.readline()\n",
    "    extract_dict = {} #empty dictionary\n",
    "    for line in file_input:\n",
    "        y = line.split('\",\"')[key_column] #key column is the y value\n",
    "        x = line.split('\",\"')[value_column] #value column is the x value\n",
    "        extract_dict[y] = x #populate dictionary\n",
    "    file_input.close() \n",
    "    return extract_dict\n",
    "\n",
    "\n",
    "\n",
    "\n",
    "#see section: \"Graphing by fossil age\" for demonstration of this function"
   ]
  },
  {
   "cell_type": "markdown",
   "metadata": {},
   "source": [
    "### stratify()\n",
    "**Must supply a dictionary of items \"to stratify\" and a \"dictionary\" to stratify over**\n",
    "\n",
    "**Both dictionaries must have matching keys**\n",
    "\n",
    "To supply dictionary items to stratify over (species, time interval, etc.) *For this particular example, I have used time interval in which a fossil shows up as the dictionary to stratify over from the file \"formatted_panthera_col.csv\"*\n",
    "\n",
    "This function takes two dictionaries with matching keys as arguments. The first one, \"to_stratify\" provides as its values all the possible items to stratify over. The other dictionary \"dictionary\"'s values are stratified over the unique list created from to_stratify. The function returns a list of the values from \"dictionary\" as dictionaries separated by the to_stratify values. The matching keys are used to match up the values from two different dictionaries.\n"
   ]
  },
  {
   "cell_type": "code",
   "execution_count": 2,
   "metadata": {
    "collapsed": true
   },
   "outputs": [],
   "source": [
    "def stratify(to_stratify, dictionary):   \n",
    "    stratify_list = list(to_stratify.values())\n",
    "    stratify = [] #empty list to hold unique values of items to stratify over\n",
    "    list_of_dicts = [] #empty list to hold stratified dictionaries\n",
    "    #for loop to create unique list of items to stratify over\n",
    "    for item in stratify_list:\n",
    "        if item not in stratify:\n",
    "            stratify.append(item)\n",
    "    #for loop to create a dictionary per item in stratify\n",
    "    for item in stratify:\n",
    "        new_dict = {}\n",
    "        #iterate through all items to stratify them into different dictionaries\n",
    "        for key in to_stratify.keys():\n",
    "            if to_stratify[key] == item:\n",
    "                new_dict[key] = dictionary[key] #populate new_dict only if correct dictionary\n",
    "        list_of_dicts.append(new_dict) #add each item that satisfies the category to the new dictionary\n",
    "    return list_of_dicts\n",
    "\n",
    "\n",
    "\n",
    "\n",
    "\n",
    "#see section: \"Graphing by fossil age\" for demonstration of this function"
   ]
  },
  {
   "cell_type": "markdown",
   "metadata": {},
   "source": [
    "### map_plotter\n",
    "**Must supply two dictionaries with matching keys**\n",
    "\n",
    "The function takes in two dictionaries with matching keys and plots both dictionaries' values as a scatterplot on top of a map, and a filename. The map is created with this filename"
   ]
  },
  {
   "cell_type": "code",
   "execution_count": 3,
   "metadata": {
    "collapsed": true
   },
   "outputs": [],
   "source": [
    "def map_plotter(x_dict, y_dict, filename):\n",
    "    lattitude = [] #empty list for lattitudes\n",
    "    longitude = [] #empty list for longitudes\n",
    "    \n",
    "    #extract the values from x_dict into a list so it is plottable\n",
    "    x_list = list(x_dict.keys()) #make a list of all the keys\n",
    "    for item in x_list:\n",
    "        longitude.append(float(x_dict[item])) #make sure value is a float\n",
    "    \n",
    "    #do the same for lattitude\n",
    "    y_list = list(y_dict.keys()) \n",
    "    for item in y_list:\n",
    "        lattitude.append(float(y_dict[item]))\n",
    "    \n",
    "    import matplotlib.pyplot as plt\n",
    "    import numpy as np\n",
    "    from mpl_toolkits.basemap import Basemap\n",
    "    #plot and return\n",
    "    plt.figure(figsize = (20,10))\n",
    "    map = Basemap()\n",
    "    map.drawcoastlines()\n",
    "    x,y = map(longitude, lattitude)\n",
    "    map.scatter(x,y,marker=\"D\", color=\"r\")\n",
    "    plt.savefig(filename)\n",
    "    return\n",
    "\n",
    "\n",
    "\n",
    "\n",
    "#see section: \"Graphing by fossil age\" for demonstration of this function"
   ]
  },
  {
   "cell_type": "markdown",
   "metadata": {},
   "source": [
    "### extract_fossil_ages()\n",
    "**Must supply filename of csv file downloaded from paleodb.org, and must be formatted with the header removed using tail function in UNIX**\n",
    "\n",
    "This function takes in a filename and outputs a dictionary with the each species in the collection as a key and a list of the average fossil age of each occurence belonging to the species as a value "
   ]
  },
  {
   "cell_type": "code",
   "execution_count": 4,
   "metadata": {
    "collapsed": true
   },
   "outputs": [],
   "source": [
    "def extract_fossil_ages(filename):\n",
    "    from collections import defaultdict\n",
    "    species_ranges = defaultdict(list) #values of the dictionary is a list\n",
    "    genera = open(filename) #input file\n",
    "    genera.readline() #read out first line\n",
    "    genera_dict= {} #create empty dict to return\n",
    "    for line in genera: #iterating through one line at a time\n",
    "        species = line.split('\",\"')[5] #species is sixth item\n",
    "        min_ma = float(line.split('\",\"')[15]) #minimum estimate of age\n",
    "        max_ma = float(line.split('\",\"')[14]) #maximum estimate of age\n",
    "        avg_ma = (max_ma + min_ma )/ 2 #find average estimate of age\n",
    "        genus = species.split(\" \")[0] #genus is first word of species name\n",
    "        if species != genus: #filters out the genus only entries\n",
    "            species_ranges[species].append(avg_ma) #populate dictionary\n",
    "    genera.close()\n",
    "    return species_ranges\n",
    "\n",
    "\n",
    "\n",
    "#see section: \"Output to R: Fossil Occurrences\" for demonstration of this function"
   ]
  },
  {
   "cell_type": "markdown",
   "metadata": {},
   "source": [
    "### dict_to_file()\n",
    "**Must supply dictionary produced via extract_fossil_ages()**\n",
    "\n",
    "This function takes in a dictionary created through the previous function, extract_fossil_ages() and a new filename and returns a file with that filename. The file will take the dictionary supplied and for each species find the maximum and minimum of the list of average ages that are the values to the dictionary. "
   ]
  },
  {
   "cell_type": "code",
   "execution_count": 5,
   "metadata": {
    "collapsed": true
   },
   "outputs": [],
   "source": [
    "def dict_to_file(species_ranges_dict, new_filename):\n",
    "    output_file = open(new_filename, \"w\") #output file created\n",
    "    alphabetical = sorted(list(species_ranges_dict.keys())) #dictionary may not be sorted\n",
    "    for key in alphabetical: #iterating through sorted keys\n",
    "        species = key #key is species name\n",
    "        \n",
    "        ages = species_ranges_dict[key] #take value, which is a list\n",
    "        minage = min(ages) #min average fossil age\n",
    "        maxage = max(ages) #max average fossil age\n",
    "        genus = key.split(\" \")[0] #first world of species name is genus\n",
    "        output_file.write(genus + \",\" + species + \",\" + str(minage) + \",\" + str(maxage) + \"\\n\") #write to output file\n",
    "    \n",
    "    output_file.close()\n",
    "    return output_file\n",
    "\n",
    "\n",
    "\n",
    "#see section: \"Output to R: Fossil Occurrences\" for demonstration of this function"
   ]
  },
  {
   "cell_type": "markdown",
   "metadata": {},
   "source": [
    "## Graphing by fossil age"
   ]
  },
  {
   "cell_type": "code",
   "execution_count": 6,
   "metadata": {
    "collapsed": false,
    "scrolled": true
   },
   "outputs": [
    {
     "name": "stderr",
     "output_type": "stream",
     "text": [
      "/home/eeb177-student/miniconda3/lib/python3.5/site-packages/mpl_toolkits/basemap/__init__.py:3222: MatplotlibDeprecationWarning: The ishold function was deprecated in version 2.0.\n",
      "  b = ax.ishold()\n",
      "/home/eeb177-student/miniconda3/lib/python3.5/site-packages/mpl_toolkits/basemap/__init__.py:3231: MatplotlibDeprecationWarning: axes.hold is deprecated.\n",
      "    See the API Changes document (http://matplotlib.org/api/api_changes.html)\n",
      "    for more details.\n",
      "  ax.hold(b)\n",
      "/home/eeb177-student/miniconda3/lib/python3.5/site-packages/matplotlib/pyplot.py:524: RuntimeWarning: More than 20 figures have been opened. Figures created through the pyplot interface (`matplotlib.pyplot.figure`) are retained until explicitly closed and may consume too much memory. (To control this warning, see the rcParam `figure.max_open_warning`).\n",
      "  max_open_warning, RuntimeWarning)\n"
     ]
    }
   ],
   "source": [
    "min_ma = column_extractor(\"formatted_felidae_col.csv\", 0, 11) #extract lower bound of fossil age\n",
    "max_ma = column_extractor(\"formatted_felidae_col.csv\", 0, 12) #extract upper bound of fossil age\n",
    "#iterate through data, find average fossil age, add it to a new dictionary with average fossil age for each fossil\n",
    "avg_ma = {}\n",
    "for key in min_ma.keys():\n",
    "    avg = ( float(max_ma[key]) + float(min_ma[key]) ) / 2\n",
    "    avg_ma[key] = avg\n",
    "    \n",
    "longitude = column_extractor(\"formatted_felidae_col.csv\", 0, 3) #extract longitude column\n",
    "latitude = column_extractor(\"formatted_felidae_col.csv\", 0, 4) #extract latitude column\n",
    "\n",
    "strat_lng2 = stratify(avg_ma, longitude) #stratify longitude by avg_ma\n",
    "strat_lat2 = stratify(avg_ma, latitude) #stratify latitude by avg_ma\n",
    "\n",
    "\n",
    "strat_lng3 = []\n",
    "strat_lat3 = []\n",
    "\n",
    "for i in range(0, len(strat_lng2)):\n",
    "    new_dict = {}\n",
    "    index = i\n",
    "    while(index > 0):\n",
    "        for key in strat_lng2[index].keys():\n",
    "            new_dict[key] = strat_lng2[index][key]\n",
    "        index = index - 1\n",
    "    strat_lng3.append(new_dict)\n",
    "\n",
    "    \n",
    "for i in range(0, len(strat_lat2)):\n",
    "    new_dict = {}\n",
    "    index = i\n",
    "    while(index > 0):\n",
    "        for key in strat_lat2[index].keys():\n",
    "            new_dict[key] = strat_lat2[index][key]\n",
    "        index = index - 1\n",
    "    strat_lat3.append(new_dict)\n",
    "#this portion can be better done in r, where each new graph can be added to the last one\n",
    "\n",
    "\n",
    "#this for loop will go through the fossils by avg_ma\n",
    "\n",
    "for i in range(0, len(strat_lng3)):    \n",
    "    x = strat_lng3[i]\n",
    "    y = strat_lat3[i]\n",
    "    filename = \"maps/map{}.png\".format(i)\n",
    "    map_plotter(x, y, filename)\n",
    "\n",
    "\n"
   ]
  },
  {
   "cell_type": "markdown",
   "metadata": {},
   "source": [
    "### Converting to GIF"
   ]
  },
  {
   "cell_type": "code",
   "execution_count": 10,
   "metadata": {
    "collapsed": false
   },
   "outputs": [],
   "source": [
    "import imageio\n",
    "    \n",
    "filenames =[]\n",
    "for i in range(0, 48):\n",
    "    filenames.append(\"maps/map{}.png\".format(i))\n",
    "images = []\n",
    "\n",
    "for filename in filenames:\n",
    "    images.append(imageio.imread(filename))\n",
    "imageio.mimsave('maps/movie.gif', images)\n",
    "    "
   ]
  },
  {
   "cell_type": "markdown",
   "metadata": {
    "collapsed": false
   },
   "source": [
    "![](maps/movie.gif)"
   ]
  },
  {
   "cell_type": "markdown",
   "metadata": {},
   "source": [
    "---\n",
    "## Output to R: Fossil Occurrences"
   ]
  },
  {
   "cell_type": "code",
   "execution_count": 10,
   "metadata": {
    "collapsed": false
   },
   "outputs": [
    {
     "data": {
      "text/plain": [
       "<_io.TextIOWrapper name='felidae_ranges.csv' mode='w' encoding='UTF-8'>"
      ]
     },
     "execution_count": 10,
     "metadata": {},
     "output_type": "execute_result"
    }
   ],
   "source": [
    "felid_ranges = extract_fossil_ages(\"formatted_felidae_occ.csv\")\n",
    "\n",
    "dict_to_file(felid_ranges, \"felidae_ranges.csv\")\n"
   ]
  },
  {
   "cell_type": "markdown",
   "metadata": {
    "collapsed": true
   },
   "source": [
    "## R: Fossil Occurrences and Species Diversity \n",
    "\n",
    "\n",
    "title: \"Felidae Analysis\"\n",
    "author: \"Sean Mathew\"\n",
    "date: \"March 9, 2017\"\n",
    "output: md_document\n",
    "\n",
    "### Reading in data\n",
    "```{r}\n",
    "library(ggplot2)\n",
    "felids <- read.csv(\"felidae_ranges.csv\", header = F, as.is = T)\n",
    "names(felids) <- c(\"genus\", \"species\", \"minage\", \"maxage\")\n",
    "head(felids)\n",
    "```\n",
    "\n",
    "### Occurrences\n",
    "```{r}\n",
    "library(\"forcats\")\n",
    "felids <- felids %>% arrange(maxage)\n",
    "felids$maxage <- felids$maxage+0.5\n",
    "felid_occ <- ggplot(felids, aes( x = fct_reorder(species, minage, .desc = T), maxage, colour = genus))\n",
    "felid_occ <- felid_occ + geom_linerange(aes(ymin = minage, ymax = maxage + 0.5))\n",
    "felid_occ <- felid_occ + theme(legend.position=\"none\")\n",
    "felid_occ <- felid_occ + coord_flip()\n",
    "felid_occ <- felid_occ +  theme(axis.text.y = element_text(size=3))\n",
    "felid_occ <- felid_occ + theme(axis.ticks.y=element_blank())\n",
    "felid_occ <- felid_occ + scale_y_continuous(limits=c(0, 20), expand = c(0, 0), breaks=c(0, 5, 10, 15, 20))\n",
    "felid_occ <- felid_occ + labs(title = \"Felid Fossil Occurrences\", x = \"Species\", y = \"Ma ago\") + theme(plot.title = element_text(hjust = 0.5, size=22, face = \"bold\"), axis.title =element_text(size=20))\n",
    "\n",
    "felid_occ\n",
    "```\n",
    "\n",
    "\n",
    "```{r}\n",
    "ggsave(filename = \"output_pdf/felid_occ.pdf\", plot = felid_occ)\n",
    "\n",
    "```\n",
    "### Diversity\n",
    "\n",
    "```{r}\n",
    "library(tidyr)\n",
    "library(dplyr)\n",
    "diversity <- felids %>% gather(key = type, value = age, minage, maxage) %>% mutate(count = ifelse(type == \"maxage\", 1, -1)) %>% group_by(age) %>% summarise(count = sum(count))  %>% arrange(-age, -count) %>% mutate(diversity = cumsum(count)) \n",
    "\n",
    "felid_div <- ggplot(diversity, aes(x = age, y = diversity)) + geom_step()\n",
    "\n",
    "felid_div <- felid_div + labs(title = \"Felidae Diversity Through Time\", x = \"Ma ago\", y = \"Number of Species\") + theme(plot.title = element_text(hjust = 0.5, size=22, face = \"bold\"), axis.title =element_text(size=20))\n",
    "felid_div\n",
    "\n",
    "```\n",
    "\n",
    "```{r}\n",
    "ggsave(filename = \"output_pdf/felid_div.pdf\", plot = felid_div)\n",
    "\n",
    "```\n",
    "\n",
    "\n",
    "\n",
    "## Graphs from R\n",
    "**Created using ggplot() in RStudio**\n",
    "\n",
    "![alt](output_png/felid_occ.png)\n",
    "\n",
    "![alt](output_png/felid_div.png)\n",
    "\n",
    "## Graphs from PyRate\n",
    "**run UNIX script \"PyRate/full-pyrate-run.sh\"** (link below)\n",
    "\n",
    "![](output_png/pyrate_results.png)\n",
    "\n",
    "\n",
    "\n",
    "## References\n",
    "Christiansen, Per. \"Evolution of Skull and Mandible Shape in Cats (Carnivora: Felidae).\" PLOS (2008): n. pag. PLOS. Web. <http://journals.plos.org/plosone/article/file?id=10.1371/journal.pone.0002807&type=printable>. \n",
    "\n",
    "Johnson, Warren E., William J. Murphy, Agostinho Antunes, Emma Teeling, Stephen J. O’Brien, Jill Pecon-Slattery, and Eduardo Eizirik. \"The Late Miocene Radiat Ion of Modern Felidae : A Genetic Assessment.\" Science (2006): n. pag. Web. <http://www.imaginiquebengals.com/johnsonsuppl2006.pdf>. \n",
    "\n",
    "Raia P., Carotenuto F., Mondanaro A., Castiglione S., Passaro F., Saggese F., Melchionna M., Serio C., Alessio L., Silvestro D., Fortelius M. 2016. Progress to extinction: increased specialisation causes the demise of animal clades. Sci. Rep. 6:30965.<http://www.nature.com/articles/srep30965>.\n",
    "\n",
    "\n",
    "\n",
    "---\n",
    "\n",
    "### Github link:\n",
    "https://github.com/seanmathew95/eeb-177-final-project\n",
    "\n",
    "---\n",
    "\n",
    "### PyRate materials: \n",
    "https://github.com/seanmathew95/eeb-177-final-project/blob/master/PyRate/full-pyrate-run.sh\n",
    "https://github.com/seanmathew95/eeb-177-final-project/blob/master/PyRate/process_felid_data.R\n",
    "\n",
    "---\n",
    "### Rmarkdown file:\n",
    "https://github.com/seanmathew95/eeb-177-final-project/blob/master/Analysis_of_Felidae.md\n"
   ]
  },
  {
   "cell_type": "code",
   "execution_count": null,
   "metadata": {
    "collapsed": true
   },
   "outputs": [],
   "source": []
  }
 ],
 "metadata": {
  "anaconda-cloud": {},
  "kernelspec": {
   "display_name": "Python [default]",
   "language": "python",
   "name": "python3"
  },
  "language_info": {
   "codemirror_mode": {
    "name": "ipython",
    "version": 3
   },
   "file_extension": ".py",
   "mimetype": "text/x-python",
   "name": "python",
   "nbconvert_exporter": "python",
   "pygments_lexer": "ipython3",
   "version": "3.5.2"
  }
 },
 "nbformat": 4,
 "nbformat_minor": 2
}
